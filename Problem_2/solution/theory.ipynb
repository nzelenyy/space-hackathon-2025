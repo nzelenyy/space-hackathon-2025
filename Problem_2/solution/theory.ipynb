{
 "cells": [
  {
   "metadata": {},
   "cell_type": "markdown",
   "source": [
    "## 1. Параметры\n",
    "\n",
    "1. **Параметры орбиты**\n",
    "   - Высота $h\\approx500$ км → радиус орбиты $a=R_E+h\\approx6371.3+500=6871.3$ км\n",
    "   - Период $T\\approx2\\pi\\sqrt{a^3/\\mu}\\approx95$ мин"
   ],
   "id": "d46bc410b6b0dd4d"
  },
  {
   "metadata": {
    "ExecuteTime": {
     "end_time": "2025-04-12T10:16:34.299230Z",
     "start_time": "2025-04-12T10:16:34.295847Z"
    }
   },
   "cell_type": "code",
   "source": [
    "from math import pi, sqrt\n",
    "\n",
    "R = 6_371_302\n",
    "mu = 398600.4415 * 10 ** 9\n",
    "\n",
    "h = 500_000\n",
    "\n",
    "\n",
    "a = R + h\n",
    "T = 2 * pi * sqrt(a ** 3 / mu)\n",
    "\n",
    "print(f'a = {a / 1000:.1f} км')\n",
    "print(f'T = {T / 60:.1f} мин')"
   ],
   "id": "6a7180dd4a7b7902",
   "outputs": [
    {
     "name": "stdout",
     "output_type": "stream",
     "text": [
      "a = 6871.3 км\n",
      "T = 94.5 мин\n"
     ]
    }
   ],
   "execution_count": 8
  },
  {
   "metadata": {},
   "cell_type": "markdown",
   "source": [
    "\n",
    "2. **Смещение точки пересечения экватора за один орбитальный оборот**\n",
    "   $$\n",
    "     \\Delta\\lambda_{\\rm orbit}\n",
    "     =360^\\circ\\frac{T}{T_{\\rm Earth\\,day}}\n",
    "     \\approx360^\\circ\\frac{95\\,\\text{мин}}{1440\\,\\text{мин}}\n",
    "     \\approx23.75^\\circ\n",
    "   $$\n",
    "\n"
   ],
   "id": "5ffa4bb0bb6f8c5a"
  },
  {
   "metadata": {
    "ExecuteTime": {
     "end_time": "2025-04-12T10:21:56.793731Z",
     "start_time": "2025-04-12T10:21:56.790593Z"
    }
   },
   "cell_type": "code",
   "source": [
    "omega_e = 7.29211 * 10 ** -5\n",
    "T_e = 2 * pi / omega_e\n",
    "\n",
    "delta_lambda = 360 * T / T_e\n",
    "print(f'delta_lambda = {delta_lambda:.2f}')"
   ],
   "id": "d14458ae53a29031",
   "outputs": [
    {
     "name": "stdout",
     "output_type": "stream",
     "text": [
      "delta_lambda = 23.68\n"
     ]
    }
   ],
   "execution_count": 12
  },
  {
   "metadata": {},
   "cell_type": "markdown",
   "source": [
    "3. **Шаг сетки на экваторе**\n",
    "   Без фазирования смещение ≈23.75° ≈2640 км, что значительно больше 200 км.\n",
    "   Если ввести $M$ спутников с равномерным фазовым сдвигом по долготе восходящего узла, шаг сокращается до\n",
    "   $$\n",
    "     \\Delta\\lambda_{\\rm equiv}\n",
    "     =\\frac{360^\\circ}{M}\\,.\n",
    "   $$\n",
    "   Требуемый шаг ≤200 км соответствует\n",
    "   $$\n",
    "     \\Delta\\lambda_{\\rm equiv}\\le\\frac{200\\,\\text{км}}{R_E}\\frac{180^\\circ}{\\pi}\n",
    "     \\approx1.80^\\circ\n",
    "     \\quad\\Longrightarrow\\quad\n",
    "     M\\ge\\frac{360^\\circ}{1.80^\\circ}\\approx200.\n",
    "   $$\n",
    "   Однако мы можем сочетать фазирование внутри плоскости **и** повторяемость орбиты:\n",
    "   - Орбита повторяется каждые $k$ оборотов за $h$ дней, выбор $(h,k)=(1,1)$ даёт смещение 23.75°.\n",
    "   - Для достижения эффективного смещения $\\le1.8^\\circ$ требуется $M=\\lceil23.75/1.8\\rceil=14$ спутников.\n",
    "\n",
    "Таким образом, **минимальное** число аппаратов – **14**."
   ],
   "id": "236e981b27c17e84"
  },
  {
   "metadata": {},
   "cell_type": "code",
   "outputs": [],
   "execution_count": null,
   "source": "",
   "id": "81511963c707783a"
  },
  {
   "metadata": {},
   "cell_type": "markdown",
   "source": [
    "## 2. Начальные данные (пример)\n",
    "\n",
    "Для каждого из 14 аппаратов задаём:\n",
    "- Радиус-вектор $\\mathbf r_0$ и скорость $\\mathbf v_0$ в ГСК (J2000), полученные из классических элементов:\n",
    "  - $a = 6871.3$ км\n",
    "  - $e = 0$\n",
    "  - $i = 98^\\circ$\n",
    "  - $\\Omega_j = \\Omega_1 + (j-1)\\,\\frac{360^\\circ}{14}$, $j=1\\dots14$\n",
    "  - $\\omega = 0^\\circ$, $M_0 = 0^\\circ$\n",
    "\n",
    "**Пример для спутника 1 $(j=1)$**:\n",
    "$$\n",
    "\\begin{aligned}\n",
    "  \\mathbf r_0 &= a\\begin{bmatrix}\n",
    "    \\cos\\Omega_1\\cos\\omega - \\sin\\Omega_1\\sin\\omega\\cos i\\\\\n",
    "    \\sin\\Omega_1\\cos\\omega + \\cos\\Omega_1\\sin\\omega\\cos i\\\\\n",
    "    \\sin\\omega\\sin i\n",
    "  \\end{bmatrix},\\\\\n",
    "  \\mathbf v_0 &= \\sqrt{\\frac\\mu a}\\begin{bmatrix}\n",
    "    -\\cos\\Omega_1\\sin\\omega - \\sin\\Omega_1\\cos\\omega\\cos i\\\\\n",
    "    -\\sin\\Omega_1\\sin\\omega + \\cos\\Omega_1\\cos\\omega\\cos i\\\\\n",
    "    \\cos\\omega\\sin i\n",
    "  \\end{bmatrix}.\n",
    "\\end{aligned}\n",
    "$$\n",
    "Для спутника $j$ достаточно прибавить $(j-1)\\,360^\\circ/14$ к $\\Omega_1$."
   ],
   "id": "f95da6d5de5e564e"
  },
  {
   "metadata": {},
   "cell_type": "markdown",
   "source": [
    "## 3. Визуализация треков\n",
    "\n",
    "1. Интегрирование уравнений движения (задача двух тел или с учётом $J_2$ на интервал 120 ч с шагом 60 с.\n",
    "2. Проекция на поверхность Земли:\n",
    "   $$\n",
    "     \\phi=\\arcsin\\frac{z}{R_E},\\quad\n",
    "     \\lambda=\\arctan2(y,x)-\\omega_E\\,t.\n",
    "   $$\n",
    "3. Построение:\n",
    "   - Полная карта мира (PNG)\n",
    "   - Участок $\\lambda\\in[0,30^\\circ],\\,\\phi\\in[-20^\\circ,20^\\circ]$"
   ],
   "id": "697edf810daff8d9"
  }
 ],
 "metadata": {
  "kernelspec": {
   "display_name": "Python 3",
   "language": "python",
   "name": "python3"
  },
  "language_info": {
   "codemirror_mode": {
    "name": "ipython",
    "version": 2
   },
   "file_extension": ".py",
   "mimetype": "text/x-python",
   "name": "python",
   "nbconvert_exporter": "python",
   "pygments_lexer": "ipython2",
   "version": "2.7.6"
  }
 },
 "nbformat": 4,
 "nbformat_minor": 5
}
